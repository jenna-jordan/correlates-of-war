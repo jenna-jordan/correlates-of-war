{
 "cells": [
  {
   "cell_type": "markdown",
   "id": "a7c2b560-b32e-48f1-8c17-cd27bf34c36d",
   "metadata": {},
   "source": [
    "# Clean Entities File\n",
    "\n",
    "The file `Entities.pdf` from the Territorial Change v6 dataset was converted into a CSV with Tabula. This CSV file required some further cleaning and exploration."
   ]
  },
  {
   "cell_type": "code",
   "execution_count": 1,
   "id": "be9fb57a-1e7f-476c-84f7-35beeb7462f4",
   "metadata": {},
   "outputs": [],
   "source": [
    "import pandas as pd\n",
    "import numpy as np\n",
    "import string"
   ]
  },
  {
   "cell_type": "code",
   "execution_count": 2,
   "id": "e9772f85-34f7-4046-b217-2c95a1cd0c86",
   "metadata": {},
   "outputs": [],
   "source": [
    "raw_data_path = \"../data/raw/\"\n",
    "processed_data_path = \"../data/processed/\""
   ]
  },
  {
   "cell_type": "code",
   "execution_count": 3,
   "id": "edaba7bd-e58e-4042-abdb-a9a0e24a0012",
   "metadata": {},
   "outputs": [],
   "source": [
    "dfEntities = pd.read_csv(raw_data_path+'tc_entities_tabula.csv', encoding='utf-8', dtype={'Entity\\rNumber': str, 'Name': str, 'Begin Year': str, 'End Year': str, 'Ending Political Status': str})"
   ]
  },
  {
   "cell_type": "code",
   "execution_count": 4,
   "id": "68dd7328-3dd3-4637-84e4-8ec9ca978594",
   "metadata": {},
   "outputs": [],
   "source": [
    "dfEntities.columns = ['id','name','start_year','end_year','status']"
   ]
  },
  {
   "cell_type": "markdown",
   "id": "e98f5cbd-0414-4183-8d3e-fae69d853bd2",
   "metadata": {},
   "source": [
    "Due to this file being converted to a CSV from a PDF, there are literal whitespace special characters (`\\r`) that need to be transformed to a space."
   ]
  },
  {
   "cell_type": "code",
   "execution_count": 5,
   "id": "04564fc1-3e1d-440b-9da7-bc52dc95789f",
   "metadata": {},
   "outputs": [],
   "source": [
    "dfEntities['name'] = dfEntities['name'].str.replace(r'[\\t\\n\\r\\x0b\\x0c]', ' ', regex=True)\n",
    "dfEntities['status'] = dfEntities['status'].str.replace(r'[\\t\\n\\r\\x0b\\x0c]', ' ', regex=True)"
   ]
  },
  {
   "cell_type": "code",
   "execution_count": 6,
   "id": "68ace6f0-06df-4f0b-a9e5-d7a253828c64",
   "metadata": {},
   "outputs": [],
   "source": [
    "dfEntities[\"id\"] = dfEntities[\"id\"].str.strip()\n",
    "dfEntities[\"name\"] = dfEntities[\"name\"].str.strip()\n",
    "dfEntities[\"start_year\"] = dfEntities[\"start_year\"].str.strip()\n",
    "dfEntities[\"end_year\"] = dfEntities[\"end_year\"].str.strip()\n",
    "dfEntities[\"status\"] = dfEntities[\"status\"].str.strip()"
   ]
  },
  {
   "cell_type": "code",
   "execution_count": 7,
   "id": "fe13ba65-1398-44f3-8c97-f3fdf2bed610",
   "metadata": {},
   "outputs": [],
   "source": [
    "dfEntities['referenced_id'] = dfEntities['status'].str.extract(r'([0-9]{1,4})')"
   ]
  },
  {
   "cell_type": "code",
   "execution_count": 8,
   "id": "29546c96-1c7a-4efa-a502-486589a158fc",
   "metadata": {},
   "outputs": [
    {
     "data": {
      "text/html": [
       "<div>\n",
       "<style scoped>\n",
       "    .dataframe tbody tr th:only-of-type {\n",
       "        vertical-align: middle;\n",
       "    }\n",
       "\n",
       "    .dataframe tbody tr th {\n",
       "        vertical-align: top;\n",
       "    }\n",
       "\n",
       "    .dataframe thead th {\n",
       "        text-align: right;\n",
       "    }\n",
       "</style>\n",
       "<table border=\"1\" class=\"dataframe\">\n",
       "  <thead>\n",
       "    <tr style=\"text-align: right;\">\n",
       "      <th></th>\n",
       "      <th>id</th>\n",
       "      <th>name</th>\n",
       "      <th>start_year</th>\n",
       "      <th>end_year</th>\n",
       "      <th>status</th>\n",
       "      <th>referenced_id</th>\n",
       "    </tr>\n",
       "  </thead>\n",
       "  <tbody>\n",
       "    <tr>\n",
       "      <th>0</th>\n",
       "      <td>3</td>\n",
       "      <td>Alaska</td>\n",
       "      <td>1816</td>\n",
       "      <td>1867</td>\n",
       "      <td>Became colony of 365</td>\n",
       "      <td>365</td>\n",
       "    </tr>\n",
       "    <tr>\n",
       "      <th>1</th>\n",
       "      <td>3</td>\n",
       "      <td>Alaska</td>\n",
       "      <td>1867</td>\n",
       "      <td>1959</td>\n",
       "      <td>Became colony of 2</td>\n",
       "      <td>2</td>\n",
       "    </tr>\n",
       "    <tr>\n",
       "      <th>2</th>\n",
       "      <td>3</td>\n",
       "      <td>Alaska</td>\n",
       "      <td>1959</td>\n",
       "      <td>1993</td>\n",
       "      <td>Became part of 2</td>\n",
       "      <td>2</td>\n",
       "    </tr>\n",
       "    <tr>\n",
       "      <th>3</th>\n",
       "      <td>4</td>\n",
       "      <td>Hawaii</td>\n",
       "      <td>1898</td>\n",
       "      <td>1960</td>\n",
       "      <td>Became colony of 2</td>\n",
       "      <td>2</td>\n",
       "    </tr>\n",
       "    <tr>\n",
       "      <th>4</th>\n",
       "      <td>4</td>\n",
       "      <td>Hawaii</td>\n",
       "      <td>1960</td>\n",
       "      <td>1993</td>\n",
       "      <td>Became part of 2</td>\n",
       "      <td>2</td>\n",
       "    </tr>\n",
       "    <tr>\n",
       "      <th>...</th>\n",
       "      <td>...</td>\n",
       "      <td>...</td>\n",
       "      <td>...</td>\n",
       "      <td>...</td>\n",
       "      <td>...</td>\n",
       "      <td>...</td>\n",
       "    </tr>\n",
       "    <tr>\n",
       "      <th>2701</th>\n",
       "      <td>9987</td>\n",
       "      <td>Neu Schwabenland</td>\n",
       "      <td>1939</td>\n",
       "      <td>1945</td>\n",
       "      <td>Claimed by 255</td>\n",
       "      <td>255</td>\n",
       "    </tr>\n",
       "    <tr>\n",
       "      <th>2702</th>\n",
       "      <td>9991</td>\n",
       "      <td>Peter I I.</td>\n",
       "      <td>1931</td>\n",
       "      <td>1993</td>\n",
       "      <td>Became possession of 385</td>\n",
       "      <td>385</td>\n",
       "    </tr>\n",
       "    <tr>\n",
       "      <th>2703</th>\n",
       "      <td>9992</td>\n",
       "      <td>Queen Maud Land</td>\n",
       "      <td>1939</td>\n",
       "      <td>1993</td>\n",
       "      <td>Claimed by 385</td>\n",
       "      <td>385</td>\n",
       "    </tr>\n",
       "    <tr>\n",
       "      <th>2704</th>\n",
       "      <td>9993</td>\n",
       "      <td>Bouvet I.</td>\n",
       "      <td>1927</td>\n",
       "      <td>1993</td>\n",
       "      <td>Became possession of 385</td>\n",
       "      <td>385</td>\n",
       "    </tr>\n",
       "    <tr>\n",
       "      <th>2705</th>\n",
       "      <td>9994</td>\n",
       "      <td>Ross Dependency</td>\n",
       "      <td>1923</td>\n",
       "      <td>1993</td>\n",
       "      <td>Claimed by 920</td>\n",
       "      <td>920</td>\n",
       "    </tr>\n",
       "  </tbody>\n",
       "</table>\n",
       "<p>2706 rows × 6 columns</p>\n",
       "</div>"
      ],
      "text/plain": [
       "        id              name start_year end_year                    status  \\\n",
       "0        3            Alaska       1816     1867      Became colony of 365   \n",
       "1        3            Alaska       1867     1959        Became colony of 2   \n",
       "2        3            Alaska       1959     1993          Became part of 2   \n",
       "3        4            Hawaii       1898     1960        Became colony of 2   \n",
       "4        4            Hawaii       1960     1993          Became part of 2   \n",
       "...    ...               ...        ...      ...                       ...   \n",
       "2701  9987  Neu Schwabenland       1939     1945            Claimed by 255   \n",
       "2702  9991        Peter I I.       1931     1993  Became possession of 385   \n",
       "2703  9992   Queen Maud Land       1939     1993            Claimed by 385   \n",
       "2704  9993         Bouvet I.       1927     1993  Became possession of 385   \n",
       "2705  9994   Ross Dependency       1923     1993            Claimed by 920   \n",
       "\n",
       "     referenced_id  \n",
       "0              365  \n",
       "1                2  \n",
       "2                2  \n",
       "3                2  \n",
       "4                2  \n",
       "...            ...  \n",
       "2701           255  \n",
       "2702           385  \n",
       "2703           385  \n",
       "2704           385  \n",
       "2705           920  \n",
       "\n",
       "[2706 rows x 6 columns]"
      ]
     },
     "execution_count": 8,
     "metadata": {},
     "output_type": "execute_result"
    }
   ],
   "source": [
    "dfEntities"
   ]
  },
  {
   "cell_type": "code",
   "execution_count": 9,
   "id": "b50c1b37-1acd-4525-918f-660d5168dcd7",
   "metadata": {},
   "outputs": [],
   "source": [
    "dfEntities.to_csv(processed_data_path+'tc_entities.csv', index=False)"
   ]
  },
  {
   "cell_type": "code",
   "execution_count": 10,
   "id": "82453675-b858-42ed-a452-09d6ab977a0b",
   "metadata": {},
   "outputs": [
    {
     "data": {
      "text/plain": [
       "1997.0"
      ]
     },
     "execution_count": 10,
     "metadata": {},
     "output_type": "execute_result"
    }
   ],
   "source": [
    "dfEntities.end_year.astype(float).max()"
   ]
  },
  {
   "cell_type": "code",
   "execution_count": 11,
   "id": "cea56990-5d51-491c-8c64-23628f435e47",
   "metadata": {},
   "outputs": [
    {
     "data": {
      "text/plain": [
       "1997.0"
      ]
     },
     "execution_count": 11,
     "metadata": {},
     "output_type": "execute_result"
    }
   ],
   "source": [
    "dfEntities.start_year.astype(float).max()"
   ]
  },
  {
   "cell_type": "code",
   "execution_count": 12,
   "id": "75b5f0fb-9866-4552-9991-e2f67721e858",
   "metadata": {},
   "outputs": [
    {
     "data": {
      "text/html": [
       "<div>\n",
       "<style scoped>\n",
       "    .dataframe tbody tr th:only-of-type {\n",
       "        vertical-align: middle;\n",
       "    }\n",
       "\n",
       "    .dataframe tbody tr th {\n",
       "        vertical-align: top;\n",
       "    }\n",
       "\n",
       "    .dataframe thead th {\n",
       "        text-align: right;\n",
       "    }\n",
       "</style>\n",
       "<table border=\"1\" class=\"dataframe\">\n",
       "  <thead>\n",
       "    <tr style=\"text-align: right;\">\n",
       "      <th></th>\n",
       "      <th>id</th>\n",
       "      <th>name</th>\n",
       "      <th>start_year</th>\n",
       "      <th>end_year</th>\n",
       "      <th>status</th>\n",
       "      <th>referenced_id</th>\n",
       "    </tr>\n",
       "  </thead>\n",
       "  <tbody>\n",
       "    <tr>\n",
       "      <th>386</th>\n",
       "      <td>1111</td>\n",
       "      <td>Aves I.</td>\n",
       "      <td>NaN</td>\n",
       "      <td>NaN</td>\n",
       "      <td>Claimed by 101</td>\n",
       "      <td>101</td>\n",
       "    </tr>\n",
       "    <tr>\n",
       "      <th>387</th>\n",
       "      <td>1111</td>\n",
       "      <td>Aves I.</td>\n",
       "      <td>NaN</td>\n",
       "      <td>NaN</td>\n",
       "      <td>Claimed by 210</td>\n",
       "      <td>210</td>\n",
       "    </tr>\n",
       "    <tr>\n",
       "      <th>435</th>\n",
       "      <td>1301</td>\n",
       "      <td>Galapagos Is.</td>\n",
       "      <td>1832</td>\n",
       "      <td>NaN</td>\n",
       "      <td>Became colony of 130</td>\n",
       "      <td>130</td>\n",
       "    </tr>\n",
       "    <tr>\n",
       "      <th>1205</th>\n",
       "      <td>4559</td>\n",
       "      <td>Gold Coast-Togoland (Neutral Zone)</td>\n",
       "      <td>1887</td>\n",
       "      <td>NaN</td>\n",
       "      <td>Became neutral or demilitarized zone of 200</td>\n",
       "      <td>200</td>\n",
       "    </tr>\n",
       "    <tr>\n",
       "      <th>1501</th>\n",
       "      <td>609</td>\n",
       "      <td>Spanish Sahara</td>\n",
       "      <td>1975</td>\n",
       "      <td>NaN</td>\n",
       "      <td>Occupied by 600</td>\n",
       "      <td>600</td>\n",
       "    </tr>\n",
       "    <tr>\n",
       "      <th>1811</th>\n",
       "      <td>6969</td>\n",
       "      <td>Abu Dhabi-Dubai Neutral Zone</td>\n",
       "      <td>NaN</td>\n",
       "      <td>NaN</td>\n",
       "      <td>Claimed by 6962</td>\n",
       "      <td>6962</td>\n",
       "    </tr>\n",
       "    <tr>\n",
       "      <th>1812</th>\n",
       "      <td>6969</td>\n",
       "      <td>Abu Dhabi-Dubai Neutral Zone</td>\n",
       "      <td>NaN</td>\n",
       "      <td>NaN</td>\n",
       "      <td>Claimed by 6961</td>\n",
       "      <td>6961</td>\n",
       "    </tr>\n",
       "    <tr>\n",
       "      <th>1824</th>\n",
       "      <td>6983</td>\n",
       "      <td>Oman-Sharjah Neutral Zone</td>\n",
       "      <td>NaN</td>\n",
       "      <td>NaN</td>\n",
       "      <td>Claimed by 698</td>\n",
       "      <td>698</td>\n",
       "    </tr>\n",
       "    <tr>\n",
       "      <th>1825</th>\n",
       "      <td>6983</td>\n",
       "      <td>Oman-Sharjah Neutral Zone</td>\n",
       "      <td>NaN</td>\n",
       "      <td>NaN</td>\n",
       "      <td>Claimed by 6963</td>\n",
       "      <td>6963</td>\n",
       "    </tr>\n",
       "    <tr>\n",
       "      <th>2340</th>\n",
       "      <td>8123</td>\n",
       "      <td>Chien Khouang</td>\n",
       "      <td>1832</td>\n",
       "      <td>NaN</td>\n",
       "      <td>Became part of 815</td>\n",
       "      <td>815</td>\n",
       "    </tr>\n",
       "  </tbody>\n",
       "</table>\n",
       "</div>"
      ],
      "text/plain": [
       "        id                                name start_year end_year  \\\n",
       "386   1111                             Aves I.        NaN      NaN   \n",
       "387   1111                             Aves I.        NaN      NaN   \n",
       "435   1301                       Galapagos Is.       1832      NaN   \n",
       "1205  4559  Gold Coast-Togoland (Neutral Zone)       1887      NaN   \n",
       "1501   609                      Spanish Sahara       1975      NaN   \n",
       "1811  6969        Abu Dhabi-Dubai Neutral Zone        NaN      NaN   \n",
       "1812  6969        Abu Dhabi-Dubai Neutral Zone        NaN      NaN   \n",
       "1824  6983           Oman-Sharjah Neutral Zone        NaN      NaN   \n",
       "1825  6983           Oman-Sharjah Neutral Zone        NaN      NaN   \n",
       "2340  8123                       Chien Khouang       1832      NaN   \n",
       "\n",
       "                                           status referenced_id  \n",
       "386                                Claimed by 101           101  \n",
       "387                                Claimed by 210           210  \n",
       "435                          Became colony of 130           130  \n",
       "1205  Became neutral or demilitarized zone of 200           200  \n",
       "1501                              Occupied by 600           600  \n",
       "1811                              Claimed by 6962          6962  \n",
       "1812                              Claimed by 6961          6961  \n",
       "1824                               Claimed by 698           698  \n",
       "1825                              Claimed by 6963          6963  \n",
       "2340                           Became part of 815           815  "
      ]
     },
     "execution_count": 12,
     "metadata": {},
     "output_type": "execute_result"
    }
   ],
   "source": [
    "dfEntities[(dfEntities['start_year'].isna()) | (dfEntities['end_year'].isna())]"
   ]
  },
  {
   "cell_type": "code",
   "execution_count": null,
   "id": "85862c77-7361-42b1-8eb8-22e8cad35d71",
   "metadata": {},
   "outputs": [],
   "source": []
  }
 ],
 "metadata": {
  "kernelspec": {
   "display_name": "cow",
   "language": "python",
   "name": "cow"
  },
  "language_info": {
   "codemirror_mode": {
    "name": "ipython",
    "version": 3
   },
   "file_extension": ".py",
   "mimetype": "text/x-python",
   "name": "python",
   "nbconvert_exporter": "python",
   "pygments_lexer": "ipython3",
   "version": "3.9.7"
  }
 },
 "nbformat": 4,
 "nbformat_minor": 5
}
