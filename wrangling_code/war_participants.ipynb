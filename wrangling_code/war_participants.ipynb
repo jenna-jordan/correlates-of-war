{
 "cells": [
  {
   "cell_type": "markdown",
   "id": "760b725f-861b-4341-9698-aa022bd7cf93",
   "metadata": {},
   "source": [
    "# Wrangle War Participant Data\n",
    "\n",
    "### Input Datasets\n",
    "\n",
    "- `Inter-StateWarData_v4.0.csv`\n",
    "- `INTRA-STATE WARS v5.1 CSV.csv`\n",
    "- `Extra-StateWarData_v4.0.csv`\n",
    "- `Non-StateWarData_v4.0.csv`\n",
    "- `polity.csv`\n",
    "\n",
    "### Output Datasets\n",
    "\n",
    "- `war_participants.csv`"
   ]
  },
  {
   "cell_type": "code",
   "execution_count": null,
   "id": "67362e69-90c5-4fe1-b0b0-cb84368a4a92",
   "metadata": {},
   "outputs": [],
   "source": [
    "import pandas as pd\n",
    "import numpy as np"
   ]
  },
  {
   "cell_type": "code",
   "execution_count": null,
   "id": "0f6098cc-bbea-4e6f-9a42-e806d324920d",
   "metadata": {},
   "outputs": [],
   "source": [
    "raw_data_path = \"../data/raw/\"\n",
    "processed_data_path = \"../data/processed/\""
   ]
  },
  {
   "cell_type": "code",
   "execution_count": null,
   "id": "5faff8b4-e6be-43d4-a2b4-1128a663f1e8",
   "metadata": {},
   "outputs": [],
   "source": [
    "dfInterStateWar = pd.read_csv(raw_data_path+\"Inter-StateWarData_v4.0.csv\", encoding='utf-8', na_values=[-7, -8, -9], dtype={\"WarNum\": str, \"TransFrom\": str, \"TransTo\": str})\n",
    "dfIntraStateWar = pd.read_csv(raw_data_path+\"INTRA-STATE WARS v5.1 CSV.csv\", encoding='latin-1', na_values=[-7, -8, -9], dtype={\"WarNum\": str, \"Intnl\": bool, \"TransFrom\": str, \"TransTo\": str})\n",
    "dfIntraStateWarPar = pd.read_csv(raw_data_path+\"INTRA-STATE_State_participants v5.1 CSV.csv\", encoding='latin-1', na_values=[-7, -8, -9], dtype={\"WarNum\": str})\n",
    "dfExtraStateWar = pd.read_csv(raw_data_path+\"Extra-StateWarData_v4.0.csv\", encoding='latin-1', na_values=[-7, -8, -9], dtype={\"WarNum\": str, \"Interven\": bool, \"TransFrom\": str, \"TransTo\": str})\n",
    "dfNonStateWar = pd.read_csv(raw_data_path+\"Non-StateWarData_v4.0.csv\", encoding='utf-8', na_values=[-7, -8, -9], dtype={\"WarNum\": str, \"TransFrom\": str, \"TransTo\": str})\n",
    "dfPolities = pd.read_csv(processed_data_path+\"polity.csv\", encoding='utf-8')"
   ]
  }
 ],
 "metadata": {
  "kernelspec": {
   "display_name": "cow",
   "language": "python",
   "name": "cow"
  },
  "language_info": {
   "codemirror_mode": {
    "name": "ipython",
    "version": 3
   },
   "file_extension": ".py",
   "mimetype": "text/x-python",
   "name": "python",
   "nbconvert_exporter": "python",
   "pygments_lexer": "ipython3",
   "version": "3.9.7"
  }
 },
 "nbformat": 4,
 "nbformat_minor": 5
}
